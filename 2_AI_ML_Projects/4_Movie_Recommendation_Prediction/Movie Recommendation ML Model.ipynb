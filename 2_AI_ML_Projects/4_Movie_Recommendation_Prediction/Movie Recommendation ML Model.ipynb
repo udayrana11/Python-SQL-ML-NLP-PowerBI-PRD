{
 "cells": [
  {
   "cell_type": "code",
   "execution_count": 199,
   "id": "8021f10e-7a41-4689-b578-b9c5c26d53c4",
   "metadata": {},
   "outputs": [],
   "source": [
    "import numpy as np\n",
    "import pandas as pd\n",
    "import matplotlib.pyplot as plt\n",
    "import seaborn as sns\n",
    "from sklearn.preprocessing import LabelEncoder\n",
    "from sklearn.model_selection import train_test_split\n",
    "from sklearn import metrics\n",
    "from sklearn.model_selection import KFold\n",
    "from sklearn.model_selection import train_test_split, cross_val_score, StratifiedKFold\n",
    "from sklearn.linear_model import LogisticRegression\n",
    "from sklearn.svm import SVC\n",
    "from sklearn.tree import DecisionTreeClassifier\n",
    "from sklearn.neighbors import KNeighborsClassifier\n",
    "from sklearn.ensemble import RandomForestClassifier\n",
    "from sklearn.naive_bayes import GaussianNB\n",
    "from sklearn.metrics import accuracy_score, precision_score, recall_score, f1_score, roc_auc_score, confusion_matrix\n",
    "from sklearn.preprocessing import StandardScaler\n",
    "from sklearn.pipeline import make_pipeline\n",
    "from sklearn.preprocessing import LabelEncoder\n",
    "import pickle\n",
    "from imblearn.over_sampling import SMOTE\n",
    "\n",
    "from sklearn.feature_extraction.text import TfidfVectorizer\n",
    "from sklearn.metrics.pairwise import cosine_similarity\n",
    "import difflib\n",
    "\n",
    "\n"
   ]
  },
  {
   "cell_type": "code",
   "execution_count": 4,
   "id": "888bc4aa-7e0e-4b78-8df3-2d39b360a242",
   "metadata": {},
   "outputs": [],
   "source": [
    "df= pd.read_csv(r\"C:\\Users\\DELL\\Desktop\\Uday\\Machine Learning\\Recommendation system\\movies (1).csv\")"
   ]
  },
  {
   "cell_type": "code",
   "execution_count": 14,
   "id": "3fa6dfe4-8046-41ca-a80b-1107fc294899",
   "metadata": {},
   "outputs": [
    {
     "data": {
      "text/html": [
       "<div>\n",
       "<style scoped>\n",
       "    .dataframe tbody tr th:only-of-type {\n",
       "        vertical-align: middle;\n",
       "    }\n",
       "\n",
       "    .dataframe tbody tr th {\n",
       "        vertical-align: top;\n",
       "    }\n",
       "\n",
       "    .dataframe thead th {\n",
       "        text-align: right;\n",
       "    }\n",
       "</style>\n",
       "<table border=\"1\" class=\"dataframe\">\n",
       "  <thead>\n",
       "    <tr style=\"text-align: right;\">\n",
       "      <th></th>\n",
       "      <th>index</th>\n",
       "      <th>budget</th>\n",
       "      <th>genres</th>\n",
       "      <th>homepage</th>\n",
       "      <th>id</th>\n",
       "      <th>keywords</th>\n",
       "      <th>original_language</th>\n",
       "      <th>original_title</th>\n",
       "      <th>overview</th>\n",
       "      <th>popularity</th>\n",
       "      <th>...</th>\n",
       "      <th>runtime</th>\n",
       "      <th>spoken_languages</th>\n",
       "      <th>status</th>\n",
       "      <th>tagline</th>\n",
       "      <th>title</th>\n",
       "      <th>vote_average</th>\n",
       "      <th>vote_count</th>\n",
       "      <th>cast</th>\n",
       "      <th>crew</th>\n",
       "      <th>director</th>\n",
       "    </tr>\n",
       "  </thead>\n",
       "  <tbody>\n",
       "    <tr>\n",
       "      <th>0</th>\n",
       "      <td>0</td>\n",
       "      <td>237000000</td>\n",
       "      <td>Action Adventure Fantasy Science Fiction</td>\n",
       "      <td>http://www.avatarmovie.com/</td>\n",
       "      <td>19995</td>\n",
       "      <td>culture clash future space war space colony so...</td>\n",
       "      <td>en</td>\n",
       "      <td>Avatar</td>\n",
       "      <td>In the 22nd century, a paraplegic Marine is di...</td>\n",
       "      <td>150.437577</td>\n",
       "      <td>...</td>\n",
       "      <td>162.0</td>\n",
       "      <td>[{\"iso_639_1\": \"en\", \"name\": \"English\"}, {\"iso...</td>\n",
       "      <td>Released</td>\n",
       "      <td>Enter the World of Pandora.</td>\n",
       "      <td>Avatar</td>\n",
       "      <td>7.2</td>\n",
       "      <td>11800</td>\n",
       "      <td>Sam Worthington Zoe Saldana Sigourney Weaver S...</td>\n",
       "      <td>[{'name': 'Stephen E. Rivkin', 'gender': 0, 'd...</td>\n",
       "      <td>James Cameron</td>\n",
       "    </tr>\n",
       "    <tr>\n",
       "      <th>1</th>\n",
       "      <td>1</td>\n",
       "      <td>300000000</td>\n",
       "      <td>Adventure Fantasy Action</td>\n",
       "      <td>http://disney.go.com/disneypictures/pirates/</td>\n",
       "      <td>285</td>\n",
       "      <td>ocean drug abuse exotic island east india trad...</td>\n",
       "      <td>en</td>\n",
       "      <td>Pirates of the Caribbean: At World's End</td>\n",
       "      <td>Captain Barbossa, long believed to be dead, ha...</td>\n",
       "      <td>139.082615</td>\n",
       "      <td>...</td>\n",
       "      <td>169.0</td>\n",
       "      <td>[{\"iso_639_1\": \"en\", \"name\": \"English\"}]</td>\n",
       "      <td>Released</td>\n",
       "      <td>At the end of the world, the adventure begins.</td>\n",
       "      <td>Pirates of the Caribbean: At World's End</td>\n",
       "      <td>6.9</td>\n",
       "      <td>4500</td>\n",
       "      <td>Johnny Depp Orlando Bloom Keira Knightley Stel...</td>\n",
       "      <td>[{'name': 'Dariusz Wolski', 'gender': 2, 'depa...</td>\n",
       "      <td>Gore Verbinski</td>\n",
       "    </tr>\n",
       "    <tr>\n",
       "      <th>2</th>\n",
       "      <td>2</td>\n",
       "      <td>245000000</td>\n",
       "      <td>Action Adventure Crime</td>\n",
       "      <td>http://www.sonypictures.com/movies/spectre/</td>\n",
       "      <td>206647</td>\n",
       "      <td>spy based on novel secret agent sequel mi6</td>\n",
       "      <td>en</td>\n",
       "      <td>Spectre</td>\n",
       "      <td>A cryptic message from Bond’s past sends him o...</td>\n",
       "      <td>107.376788</td>\n",
       "      <td>...</td>\n",
       "      <td>148.0</td>\n",
       "      <td>[{\"iso_639_1\": \"fr\", \"name\": \"Fran\\u00e7ais\"},...</td>\n",
       "      <td>Released</td>\n",
       "      <td>A Plan No One Escapes</td>\n",
       "      <td>Spectre</td>\n",
       "      <td>6.3</td>\n",
       "      <td>4466</td>\n",
       "      <td>Daniel Craig Christoph Waltz L\\u00e9a Seydoux ...</td>\n",
       "      <td>[{'name': 'Thomas Newman', 'gender': 2, 'depar...</td>\n",
       "      <td>Sam Mendes</td>\n",
       "    </tr>\n",
       "  </tbody>\n",
       "</table>\n",
       "<p>3 rows × 24 columns</p>\n",
       "</div>"
      ],
      "text/plain": [
       "   index     budget                                    genres  \\\n",
       "0      0  237000000  Action Adventure Fantasy Science Fiction   \n",
       "1      1  300000000                  Adventure Fantasy Action   \n",
       "2      2  245000000                    Action Adventure Crime   \n",
       "\n",
       "                                       homepage      id  \\\n",
       "0                   http://www.avatarmovie.com/   19995   \n",
       "1  http://disney.go.com/disneypictures/pirates/     285   \n",
       "2   http://www.sonypictures.com/movies/spectre/  206647   \n",
       "\n",
       "                                            keywords original_language  \\\n",
       "0  culture clash future space war space colony so...                en   \n",
       "1  ocean drug abuse exotic island east india trad...                en   \n",
       "2         spy based on novel secret agent sequel mi6                en   \n",
       "\n",
       "                             original_title  \\\n",
       "0                                    Avatar   \n",
       "1  Pirates of the Caribbean: At World's End   \n",
       "2                                   Spectre   \n",
       "\n",
       "                                            overview  popularity  ... runtime  \\\n",
       "0  In the 22nd century, a paraplegic Marine is di...  150.437577  ...   162.0   \n",
       "1  Captain Barbossa, long believed to be dead, ha...  139.082615  ...   169.0   \n",
       "2  A cryptic message from Bond’s past sends him o...  107.376788  ...   148.0   \n",
       "\n",
       "                                    spoken_languages    status  \\\n",
       "0  [{\"iso_639_1\": \"en\", \"name\": \"English\"}, {\"iso...  Released   \n",
       "1           [{\"iso_639_1\": \"en\", \"name\": \"English\"}]  Released   \n",
       "2  [{\"iso_639_1\": \"fr\", \"name\": \"Fran\\u00e7ais\"},...  Released   \n",
       "\n",
       "                                          tagline  \\\n",
       "0                     Enter the World of Pandora.   \n",
       "1  At the end of the world, the adventure begins.   \n",
       "2                           A Plan No One Escapes   \n",
       "\n",
       "                                      title vote_average vote_count  \\\n",
       "0                                    Avatar          7.2      11800   \n",
       "1  Pirates of the Caribbean: At World's End          6.9       4500   \n",
       "2                                   Spectre          6.3       4466   \n",
       "\n",
       "                                                cast  \\\n",
       "0  Sam Worthington Zoe Saldana Sigourney Weaver S...   \n",
       "1  Johnny Depp Orlando Bloom Keira Knightley Stel...   \n",
       "2  Daniel Craig Christoph Waltz L\\u00e9a Seydoux ...   \n",
       "\n",
       "                                                crew        director  \n",
       "0  [{'name': 'Stephen E. Rivkin', 'gender': 0, 'd...   James Cameron  \n",
       "1  [{'name': 'Dariusz Wolski', 'gender': 2, 'depa...  Gore Verbinski  \n",
       "2  [{'name': 'Thomas Newman', 'gender': 2, 'depar...      Sam Mendes  \n",
       "\n",
       "[3 rows x 24 columns]"
      ]
     },
     "execution_count": 14,
     "metadata": {},
     "output_type": "execute_result"
    }
   ],
   "source": [
    "df.head(3)"
   ]
  },
  {
   "cell_type": "code",
   "execution_count": 8,
   "id": "d6f2d918-1630-470e-9c01-706f727c2334",
   "metadata": {},
   "outputs": [
    {
     "data": {
      "text/plain": [
       "index                      0\n",
       "budget                     0\n",
       "genres                    27\n",
       "homepage                3083\n",
       "id                         0\n",
       "keywords                 408\n",
       "original_language          0\n",
       "original_title             0\n",
       "overview                   3\n",
       "popularity                 0\n",
       "production_companies       0\n",
       "production_countries       0\n",
       "release_date               1\n",
       "revenue                    0\n",
       "runtime                    2\n",
       "spoken_languages           0\n",
       "status                     0\n",
       "tagline                  840\n",
       "title                      0\n",
       "vote_average               0\n",
       "vote_count                 0\n",
       "cast                      42\n",
       "crew                       0\n",
       "director                  36\n",
       "dtype: int64"
      ]
     },
     "execution_count": 8,
     "metadata": {},
     "output_type": "execute_result"
    }
   ],
   "source": [
    "df.isnull().sum()"
   ]
  },
  {
   "cell_type": "code",
   "execution_count": 10,
   "id": "56c68164-88eb-43ae-a287-547db191f87c",
   "metadata": {},
   "outputs": [
    {
     "name": "stdout",
     "output_type": "stream",
     "text": [
      "<class 'pandas.core.frame.DataFrame'>\n",
      "RangeIndex: 4792 entries, 0 to 4791\n",
      "Data columns (total 24 columns):\n",
      " #   Column                Non-Null Count  Dtype  \n",
      "---  ------                --------------  -----  \n",
      " 0   index                 4792 non-null   int64  \n",
      " 1   budget                4792 non-null   int64  \n",
      " 2   genres                4765 non-null   object \n",
      " 3   homepage              1709 non-null   object \n",
      " 4   id                    4792 non-null   int64  \n",
      " 5   keywords              4384 non-null   object \n",
      " 6   original_language     4792 non-null   object \n",
      " 7   original_title        4792 non-null   object \n",
      " 8   overview              4789 non-null   object \n",
      " 9   popularity            4792 non-null   float64\n",
      " 10  production_companies  4792 non-null   object \n",
      " 11  production_countries  4792 non-null   object \n",
      " 12  release_date          4791 non-null   object \n",
      " 13  revenue               4792 non-null   int64  \n",
      " 14  runtime               4790 non-null   float64\n",
      " 15  spoken_languages      4792 non-null   object \n",
      " 16  status                4792 non-null   object \n",
      " 17  tagline               3952 non-null   object \n",
      " 18  title                 4792 non-null   object \n",
      " 19  vote_average          4792 non-null   float64\n",
      " 20  vote_count            4792 non-null   int64  \n",
      " 21  cast                  4750 non-null   object \n",
      " 22  crew                  4792 non-null   object \n",
      " 23  director              4756 non-null   object \n",
      "dtypes: float64(3), int64(5), object(16)\n",
      "memory usage: 898.6+ KB\n"
     ]
    }
   ],
   "source": [
    "df.info()"
   ]
  },
  {
   "cell_type": "code",
   "execution_count": 16,
   "id": "5c229f39-b0d6-4780-9f33-0ccc18028425",
   "metadata": {},
   "outputs": [],
   "source": [
    "df.drop('homepage',axis=1, inplace=True)"
   ]
  },
  {
   "cell_type": "code",
   "execution_count": 18,
   "id": "57637a10-8594-4f60-9ce1-d57d0eeb7344",
   "metadata": {},
   "outputs": [
    {
     "data": {
      "text/html": [
       "<div>\n",
       "<style scoped>\n",
       "    .dataframe tbody tr th:only-of-type {\n",
       "        vertical-align: middle;\n",
       "    }\n",
       "\n",
       "    .dataframe tbody tr th {\n",
       "        vertical-align: top;\n",
       "    }\n",
       "\n",
       "    .dataframe thead th {\n",
       "        text-align: right;\n",
       "    }\n",
       "</style>\n",
       "<table border=\"1\" class=\"dataframe\">\n",
       "  <thead>\n",
       "    <tr style=\"text-align: right;\">\n",
       "      <th></th>\n",
       "      <th>index</th>\n",
       "      <th>budget</th>\n",
       "      <th>genres</th>\n",
       "      <th>id</th>\n",
       "      <th>keywords</th>\n",
       "      <th>original_language</th>\n",
       "      <th>original_title</th>\n",
       "      <th>overview</th>\n",
       "      <th>popularity</th>\n",
       "      <th>production_companies</th>\n",
       "      <th>...</th>\n",
       "      <th>runtime</th>\n",
       "      <th>spoken_languages</th>\n",
       "      <th>status</th>\n",
       "      <th>tagline</th>\n",
       "      <th>title</th>\n",
       "      <th>vote_average</th>\n",
       "      <th>vote_count</th>\n",
       "      <th>cast</th>\n",
       "      <th>crew</th>\n",
       "      <th>director</th>\n",
       "    </tr>\n",
       "  </thead>\n",
       "  <tbody>\n",
       "    <tr>\n",
       "      <th>0</th>\n",
       "      <td>0</td>\n",
       "      <td>237000000</td>\n",
       "      <td>Action Adventure Fantasy Science Fiction</td>\n",
       "      <td>19995</td>\n",
       "      <td>culture clash future space war space colony so...</td>\n",
       "      <td>en</td>\n",
       "      <td>Avatar</td>\n",
       "      <td>In the 22nd century, a paraplegic Marine is di...</td>\n",
       "      <td>150.437577</td>\n",
       "      <td>[{\"name\": \"Ingenious Film Partners\", \"id\": 289...</td>\n",
       "      <td>...</td>\n",
       "      <td>162.0</td>\n",
       "      <td>[{\"iso_639_1\": \"en\", \"name\": \"English\"}, {\"iso...</td>\n",
       "      <td>Released</td>\n",
       "      <td>Enter the World of Pandora.</td>\n",
       "      <td>Avatar</td>\n",
       "      <td>7.2</td>\n",
       "      <td>11800</td>\n",
       "      <td>Sam Worthington Zoe Saldana Sigourney Weaver S...</td>\n",
       "      <td>[{'name': 'Stephen E. Rivkin', 'gender': 0, 'd...</td>\n",
       "      <td>James Cameron</td>\n",
       "    </tr>\n",
       "  </tbody>\n",
       "</table>\n",
       "<p>1 rows × 23 columns</p>\n",
       "</div>"
      ],
      "text/plain": [
       "   index     budget                                    genres     id  \\\n",
       "0      0  237000000  Action Adventure Fantasy Science Fiction  19995   \n",
       "\n",
       "                                            keywords original_language  \\\n",
       "0  culture clash future space war space colony so...                en   \n",
       "\n",
       "  original_title                                           overview  \\\n",
       "0         Avatar  In the 22nd century, a paraplegic Marine is di...   \n",
       "\n",
       "   popularity                               production_companies  ... runtime  \\\n",
       "0  150.437577  [{\"name\": \"Ingenious Film Partners\", \"id\": 289...  ...   162.0   \n",
       "\n",
       "                                    spoken_languages    status  \\\n",
       "0  [{\"iso_639_1\": \"en\", \"name\": \"English\"}, {\"iso...  Released   \n",
       "\n",
       "                       tagline   title vote_average vote_count  \\\n",
       "0  Enter the World of Pandora.  Avatar          7.2      11800   \n",
       "\n",
       "                                                cast  \\\n",
       "0  Sam Worthington Zoe Saldana Sigourney Weaver S...   \n",
       "\n",
       "                                                crew       director  \n",
       "0  [{'name': 'Stephen E. Rivkin', 'gender': 0, 'd...  James Cameron  \n",
       "\n",
       "[1 rows x 23 columns]"
      ]
     },
     "execution_count": 18,
     "metadata": {},
     "output_type": "execute_result"
    }
   ],
   "source": [
    "df.head(1)"
   ]
  },
  {
   "cell_type": "code",
   "execution_count": 24,
   "id": "c269dcc7-dcf2-4866-987f-023aff0b5082",
   "metadata": {},
   "outputs": [
    {
     "data": {
      "text/plain": [
       "(4792, 23)"
      ]
     },
     "execution_count": 24,
     "metadata": {},
     "output_type": "execute_result"
    }
   ],
   "source": [
    "df.shape"
   ]
  },
  {
   "cell_type": "code",
   "execution_count": 36,
   "id": "ecb27b6c-b3f7-4104-a85e-6976831e50c7",
   "metadata": {},
   "outputs": [
    {
     "data": {
      "text/plain": [
       "index                     0\n",
       "budget                    0\n",
       "genres                   27\n",
       "id                        0\n",
       "keywords                408\n",
       "original_language         0\n",
       "original_title            0\n",
       "overview                  3\n",
       "popularity                0\n",
       "production_companies      0\n",
       "production_countries      0\n",
       "release_date              1\n",
       "revenue                   0\n",
       "runtime                   2\n",
       "spoken_languages          0\n",
       "status                    0\n",
       "tagline                 840\n",
       "title                     0\n",
       "vote_average              0\n",
       "vote_count                0\n",
       "cast                     42\n",
       "crew                      0\n",
       "director                 36\n",
       "dtype: int64"
      ]
     },
     "execution_count": 36,
     "metadata": {},
     "output_type": "execute_result"
    }
   ],
   "source": [
    "df.isnull().sum()"
   ]
  },
  {
   "cell_type": "code",
   "execution_count": 45,
   "id": "1e901d5e-3702-4dc3-9d06-2b66ad082315",
   "metadata": {},
   "outputs": [
    {
     "name": "stdout",
     "output_type": "stream",
     "text": [
      "Index(['index', 'budget', 'genres', 'id', 'keywords', 'original_language',\n",
      "       'original_title', 'overview', 'popularity', 'production_companies',\n",
      "       'production_countries', 'release_date', 'revenue', 'runtime',\n",
      "       'spoken_languages', 'status', 'tagline', 'title', 'vote_average',\n",
      "       'vote_count', 'cast', 'crew', 'director'],\n",
      "      dtype='object')\n"
     ]
    }
   ],
   "source": [
    "print(df.columns)"
   ]
  },
  {
   "cell_type": "code",
   "execution_count": 71,
   "id": "1fafc2e9-a997-481d-a27e-eb5933a1c491",
   "metadata": {},
   "outputs": [],
   "source": [
    "df = df.dropna(subset=['director', 'genres', 'cast', 'keywords', 'tagline'])"
   ]
  },
  {
   "cell_type": "code",
   "execution_count": 73,
   "id": "f7d1cf30-ce55-4928-bd4d-383f10c1e794",
   "metadata": {},
   "outputs": [],
   "source": [
    "df.drop('index',axis=1, inplace=True)"
   ]
  },
  {
   "cell_type": "code",
   "execution_count": 75,
   "id": "63a57869-ea1c-4603-bbaa-bf8348027748",
   "metadata": {},
   "outputs": [
    {
     "data": {
      "text/plain": [
       "budget                  0\n",
       "genres                  0\n",
       "id                      0\n",
       "keywords                0\n",
       "original_language       0\n",
       "original_title          0\n",
       "overview                0\n",
       "popularity              0\n",
       "production_companies    0\n",
       "production_countries    0\n",
       "release_date            0\n",
       "revenue                 0\n",
       "runtime                 0\n",
       "spoken_languages        0\n",
       "status                  0\n",
       "tagline                 0\n",
       "title                   0\n",
       "vote_average            0\n",
       "vote_count              0\n",
       "cast                    0\n",
       "crew                    0\n",
       "director                0\n",
       "dtype: int64"
      ]
     },
     "execution_count": 75,
     "metadata": {},
     "output_type": "execute_result"
    }
   ],
   "source": [
    "df.isnull().sum()"
   ]
  },
  {
   "cell_type": "code",
   "execution_count": 77,
   "id": "c259ceb9-5ca1-4b34-9386-a79162088575",
   "metadata": {},
   "outputs": [
    {
     "data": {
      "text/plain": [
       "(3746, 22)"
      ]
     },
     "execution_count": 77,
     "metadata": {},
     "output_type": "execute_result"
    }
   ],
   "source": [
    "df.shape"
   ]
  },
  {
   "cell_type": "code",
   "execution_count": 79,
   "id": "980c1ed9-2e05-4397-9dca-4959ee85c62a",
   "metadata": {},
   "outputs": [
    {
     "data": {
      "text/html": [
       "<div>\n",
       "<style scoped>\n",
       "    .dataframe tbody tr th:only-of-type {\n",
       "        vertical-align: middle;\n",
       "    }\n",
       "\n",
       "    .dataframe tbody tr th {\n",
       "        vertical-align: top;\n",
       "    }\n",
       "\n",
       "    .dataframe thead th {\n",
       "        text-align: right;\n",
       "    }\n",
       "</style>\n",
       "<table border=\"1\" class=\"dataframe\">\n",
       "  <thead>\n",
       "    <tr style=\"text-align: right;\">\n",
       "      <th></th>\n",
       "      <th>budget</th>\n",
       "      <th>genres</th>\n",
       "      <th>id</th>\n",
       "      <th>keywords</th>\n",
       "      <th>original_language</th>\n",
       "      <th>original_title</th>\n",
       "      <th>overview</th>\n",
       "      <th>popularity</th>\n",
       "      <th>production_companies</th>\n",
       "      <th>production_countries</th>\n",
       "      <th>...</th>\n",
       "      <th>runtime</th>\n",
       "      <th>spoken_languages</th>\n",
       "      <th>status</th>\n",
       "      <th>tagline</th>\n",
       "      <th>title</th>\n",
       "      <th>vote_average</th>\n",
       "      <th>vote_count</th>\n",
       "      <th>cast</th>\n",
       "      <th>crew</th>\n",
       "      <th>director</th>\n",
       "    </tr>\n",
       "  </thead>\n",
       "  <tbody>\n",
       "  </tbody>\n",
       "</table>\n",
       "<p>0 rows × 22 columns</p>\n",
       "</div>"
      ],
      "text/plain": [
       "Empty DataFrame\n",
       "Columns: [budget, genres, id, keywords, original_language, original_title, overview, popularity, production_companies, production_countries, release_date, revenue, runtime, spoken_languages, status, tagline, title, vote_average, vote_count, cast, crew, director]\n",
       "Index: []\n",
       "\n",
       "[0 rows x 22 columns]"
      ]
     },
     "execution_count": 79,
     "metadata": {},
     "output_type": "execute_result"
    }
   ],
   "source": [
    "df[df.duplicated()]"
   ]
  },
  {
   "cell_type": "code",
   "execution_count": 239,
   "id": "5e37a7a0-bf15-4ae0-815b-0dbac9eda009",
   "metadata": {},
   "outputs": [
    {
     "data": {
      "text/html": [
       "<div>\n",
       "<style scoped>\n",
       "    .dataframe tbody tr th:only-of-type {\n",
       "        vertical-align: middle;\n",
       "    }\n",
       "\n",
       "    .dataframe tbody tr th {\n",
       "        vertical-align: top;\n",
       "    }\n",
       "\n",
       "    .dataframe thead th {\n",
       "        text-align: right;\n",
       "    }\n",
       "</style>\n",
       "<table border=\"1\" class=\"dataframe\">\n",
       "  <thead>\n",
       "    <tr style=\"text-align: right;\">\n",
       "      <th></th>\n",
       "      <th>genres</th>\n",
       "      <th>keywords</th>\n",
       "      <th>tagline</th>\n",
       "      <th>cast</th>\n",
       "      <th>director</th>\n",
       "      <th>merged_col</th>\n",
       "    </tr>\n",
       "  </thead>\n",
       "  <tbody>\n",
       "    <tr>\n",
       "      <th>0</th>\n",
       "      <td>Action Adventure Fantasy Science Fiction</td>\n",
       "      <td>culture clash future space war space colony so...</td>\n",
       "      <td>Enter the World of Pandora.</td>\n",
       "      <td>Sam Worthington Zoe Saldana Sigourney Weaver S...</td>\n",
       "      <td>James Cameron</td>\n",
       "      <td>Action Adventure Fantasy Science Fiction-cultu...</td>\n",
       "    </tr>\n",
       "    <tr>\n",
       "      <th>1</th>\n",
       "      <td>Adventure Fantasy Action</td>\n",
       "      <td>ocean drug abuse exotic island east india trad...</td>\n",
       "      <td>At the end of the world, the adventure begins.</td>\n",
       "      <td>Johnny Depp Orlando Bloom Keira Knightley Stel...</td>\n",
       "      <td>Gore Verbinski</td>\n",
       "      <td>Adventure Fantasy Action-ocean drug abuse exot...</td>\n",
       "    </tr>\n",
       "    <tr>\n",
       "      <th>2</th>\n",
       "      <td>Action Adventure Crime</td>\n",
       "      <td>spy based on novel secret agent sequel mi6</td>\n",
       "      <td>A Plan No One Escapes</td>\n",
       "      <td>Daniel Craig Christoph Waltz L\\u00e9a Seydoux ...</td>\n",
       "      <td>Sam Mendes</td>\n",
       "      <td>Action Adventure Crime-spy based on novel secr...</td>\n",
       "    </tr>\n",
       "  </tbody>\n",
       "</table>\n",
       "</div>"
      ],
      "text/plain": [
       "                                     genres  \\\n",
       "0  Action Adventure Fantasy Science Fiction   \n",
       "1                  Adventure Fantasy Action   \n",
       "2                    Action Adventure Crime   \n",
       "\n",
       "                                            keywords  \\\n",
       "0  culture clash future space war space colony so...   \n",
       "1  ocean drug abuse exotic island east india trad...   \n",
       "2         spy based on novel secret agent sequel mi6   \n",
       "\n",
       "                                          tagline  \\\n",
       "0                     Enter the World of Pandora.   \n",
       "1  At the end of the world, the adventure begins.   \n",
       "2                           A Plan No One Escapes   \n",
       "\n",
       "                                                cast        director  \\\n",
       "0  Sam Worthington Zoe Saldana Sigourney Weaver S...   James Cameron   \n",
       "1  Johnny Depp Orlando Bloom Keira Knightley Stel...  Gore Verbinski   \n",
       "2  Daniel Craig Christoph Waltz L\\u00e9a Seydoux ...      Sam Mendes   \n",
       "\n",
       "                                          merged_col  \n",
       "0  Action Adventure Fantasy Science Fiction-cultu...  \n",
       "1  Adventure Fantasy Action-ocean drug abuse exot...  \n",
       "2  Action Adventure Crime-spy based on novel secr...  "
      ]
     },
     "execution_count": 239,
     "metadata": {},
     "output_type": "execute_result"
    }
   ],
   "source": [
    "df.head(3)"
   ]
  },
  {
   "cell_type": "code",
   "execution_count": 87,
   "id": "cf4384ef-691b-4951-a835-377427f217ef",
   "metadata": {},
   "outputs": [],
   "source": [
    "df['release_date'] = pd.to_datetime(df['release_date'])"
   ]
  },
  {
   "cell_type": "code",
   "execution_count": 93,
   "id": "a8a5927e-bf5c-4c4a-b89a-6bd76abfbc44",
   "metadata": {},
   "outputs": [
    {
     "name": "stdout",
     "output_type": "stream",
     "text": [
      "<class 'pandas.core.frame.DataFrame'>\n",
      "Index: 3746 entries, 0 to 4791\n",
      "Data columns (total 22 columns):\n",
      " #   Column                Non-Null Count  Dtype         \n",
      "---  ------                --------------  -----         \n",
      " 0   budget                3746 non-null   int64         \n",
      " 1   genres                3746 non-null   object        \n",
      " 2   id                    3746 non-null   int64         \n",
      " 3   keywords              3746 non-null   object        \n",
      " 4   original_language     3746 non-null   object        \n",
      " 5   original_title        3746 non-null   object        \n",
      " 6   overview              3746 non-null   object        \n",
      " 7   popularity            3746 non-null   float64       \n",
      " 8   production_companies  3746 non-null   object        \n",
      " 9   production_countries  3746 non-null   object        \n",
      " 10  release_date          3746 non-null   datetime64[ns]\n",
      " 11  revenue               3746 non-null   int64         \n",
      " 12  runtime               3746 non-null   float64       \n",
      " 13  spoken_languages      3746 non-null   object        \n",
      " 14  status                3746 non-null   object        \n",
      " 15  tagline               3746 non-null   object        \n",
      " 16  title                 3746 non-null   object        \n",
      " 17  vote_average          3746 non-null   float64       \n",
      " 18  vote_count            3746 non-null   int64         \n",
      " 19  cast                  3746 non-null   object        \n",
      " 20  crew                  3746 non-null   object        \n",
      " 21  director              3746 non-null   object        \n",
      "dtypes: datetime64[ns](1), float64(3), int64(4), object(14)\n",
      "memory usage: 673.1+ KB\n"
     ]
    }
   ],
   "source": [
    "df.info()"
   ]
  },
  {
   "cell_type": "code",
   "execution_count": 99,
   "id": "c290d66d-e0e4-4f0c-8d0d-93c5e7d281e4",
   "metadata": {},
   "outputs": [
    {
     "data": {
      "text/plain": [
       "array(['en', 'ja', 'fr', 'zh', 'ko', 'de', 'es', 'it', 'ru', 'cn', 'nl',\n",
       "       'sv', 'th', 'da', 'hu', 'cs', 'pt', 'hi', 'tr', 'nb', 'af', 'ar',\n",
       "       'ta', 'id', 'ro', 'fa', 'no', 'ps', 'el'], dtype=object)"
      ]
     },
     "execution_count": 99,
     "metadata": {},
     "output_type": "execute_result"
    }
   ],
   "source": [
    "df['original_language'].unique() # make categorical"
   ]
  },
  {
   "cell_type": "code",
   "execution_count": 101,
   "id": "df93e61d-46f7-458f-88b7-98db7fea66d6",
   "metadata": {},
   "outputs": [
    {
     "data": {
      "text/plain": [
       "array(['Released', 'Post Production', 'Rumored'], dtype=object)"
      ]
     },
     "execution_count": 101,
     "metadata": {},
     "output_type": "execute_result"
    }
   ],
   "source": [
    "df['status'].unique() # make categorical"
   ]
  },
  {
   "cell_type": "code",
   "execution_count": 107,
   "id": "cfbe2756-5239-4810-86ef-a5544609ecca",
   "metadata": {},
   "outputs": [
    {
     "data": {
      "text/plain": [
       "Index(['budget', 'genres', 'id', 'keywords', 'original_language',\n",
       "       'original_title', 'overview', 'popularity', 'production_companies',\n",
       "       'production_countries', 'release_date', 'revenue', 'runtime',\n",
       "       'spoken_languages', 'status', 'tagline', 'title', 'vote_average',\n",
       "       'vote_count', 'cast', 'crew', 'director'],\n",
       "      dtype='object')"
      ]
     },
     "execution_count": 107,
     "metadata": {},
     "output_type": "execute_result"
    }
   ],
   "source": [
    "df.columns\n"
   ]
  },
  {
   "cell_type": "code",
   "execution_count": 183,
   "id": "df93b880-20d6-42ac-a115-61c78f563c84",
   "metadata": {},
   "outputs": [
    {
     "ename": "KeyError",
     "evalue": "\"['budget', 'id', 'original_language', 'original_title', 'overview', 'popularity', 'production_companies', 'production_countries', 'release_date', 'revenue', 'runtime', 'spoken_languages', 'status', 'title', 'vote_average', 'vote_count', 'crew'] not found in axis\"",
     "output_type": "error",
     "traceback": [
      "\u001b[1;31m---------------------------------------------------------------------------\u001b[0m",
      "\u001b[1;31mKeyError\u001b[0m                                  Traceback (most recent call last)",
      "Cell \u001b[1;32mIn[183], line 6\u001b[0m\n\u001b[0;32m      1\u001b[0m columns_to_drop \u001b[38;5;241m=\u001b[39m[\u001b[38;5;124m'\u001b[39m\u001b[38;5;124mbudget\u001b[39m\u001b[38;5;124m'\u001b[39m, \u001b[38;5;124m'\u001b[39m\u001b[38;5;124mid\u001b[39m\u001b[38;5;124m'\u001b[39m, \u001b[38;5;124m'\u001b[39m\u001b[38;5;124moriginal_language\u001b[39m\u001b[38;5;124m'\u001b[39m,\n\u001b[0;32m      2\u001b[0m        \u001b[38;5;124m'\u001b[39m\u001b[38;5;124moriginal_title\u001b[39m\u001b[38;5;124m'\u001b[39m, \u001b[38;5;124m'\u001b[39m\u001b[38;5;124moverview\u001b[39m\u001b[38;5;124m'\u001b[39m, \u001b[38;5;124m'\u001b[39m\u001b[38;5;124mpopularity\u001b[39m\u001b[38;5;124m'\u001b[39m, \u001b[38;5;124m'\u001b[39m\u001b[38;5;124mproduction_companies\u001b[39m\u001b[38;5;124m'\u001b[39m,\n\u001b[0;32m      3\u001b[0m        \u001b[38;5;124m'\u001b[39m\u001b[38;5;124mproduction_countries\u001b[39m\u001b[38;5;124m'\u001b[39m, \u001b[38;5;124m'\u001b[39m\u001b[38;5;124mrelease_date\u001b[39m\u001b[38;5;124m'\u001b[39m, \u001b[38;5;124m'\u001b[39m\u001b[38;5;124mrevenue\u001b[39m\u001b[38;5;124m'\u001b[39m, \u001b[38;5;124m'\u001b[39m\u001b[38;5;124mruntime\u001b[39m\u001b[38;5;124m'\u001b[39m,\n\u001b[0;32m      4\u001b[0m        \u001b[38;5;124m'\u001b[39m\u001b[38;5;124mspoken_languages\u001b[39m\u001b[38;5;124m'\u001b[39m, \u001b[38;5;124m'\u001b[39m\u001b[38;5;124mstatus\u001b[39m\u001b[38;5;124m'\u001b[39m, \u001b[38;5;124m'\u001b[39m\u001b[38;5;124mtitle\u001b[39m\u001b[38;5;124m'\u001b[39m, \u001b[38;5;124m'\u001b[39m\u001b[38;5;124mvote_average\u001b[39m\u001b[38;5;124m'\u001b[39m,\n\u001b[0;32m      5\u001b[0m        \u001b[38;5;124m'\u001b[39m\u001b[38;5;124mvote_count\u001b[39m\u001b[38;5;124m'\u001b[39m,\u001b[38;5;124m'\u001b[39m\u001b[38;5;124mcrew\u001b[39m\u001b[38;5;124m'\u001b[39m]\n\u001b[1;32m----> 6\u001b[0m df \u001b[38;5;241m=\u001b[39m df\u001b[38;5;241m.\u001b[39mdrop(columns\u001b[38;5;241m=\u001b[39mcolumns_to_drop, axis\u001b[38;5;241m=\u001b[39m\u001b[38;5;241m1\u001b[39m)\n",
      "File \u001b[1;32m~\\anaconda3\\Lib\\site-packages\\pandas\\core\\frame.py:5581\u001b[0m, in \u001b[0;36mDataFrame.drop\u001b[1;34m(self, labels, axis, index, columns, level, inplace, errors)\u001b[0m\n\u001b[0;32m   5433\u001b[0m \u001b[38;5;28;01mdef\u001b[39;00m \u001b[38;5;21mdrop\u001b[39m(\n\u001b[0;32m   5434\u001b[0m     \u001b[38;5;28mself\u001b[39m,\n\u001b[0;32m   5435\u001b[0m     labels: IndexLabel \u001b[38;5;241m|\u001b[39m \u001b[38;5;28;01mNone\u001b[39;00m \u001b[38;5;241m=\u001b[39m \u001b[38;5;28;01mNone\u001b[39;00m,\n\u001b[1;32m   (...)\u001b[0m\n\u001b[0;32m   5442\u001b[0m     errors: IgnoreRaise \u001b[38;5;241m=\u001b[39m \u001b[38;5;124m\"\u001b[39m\u001b[38;5;124mraise\u001b[39m\u001b[38;5;124m\"\u001b[39m,\n\u001b[0;32m   5443\u001b[0m ) \u001b[38;5;241m-\u001b[39m\u001b[38;5;241m>\u001b[39m DataFrame \u001b[38;5;241m|\u001b[39m \u001b[38;5;28;01mNone\u001b[39;00m:\n\u001b[0;32m   5444\u001b[0m \u001b[38;5;250m    \u001b[39m\u001b[38;5;124;03m\"\"\"\u001b[39;00m\n\u001b[0;32m   5445\u001b[0m \u001b[38;5;124;03m    Drop specified labels from rows or columns.\u001b[39;00m\n\u001b[0;32m   5446\u001b[0m \n\u001b[1;32m   (...)\u001b[0m\n\u001b[0;32m   5579\u001b[0m \u001b[38;5;124;03m            weight  1.0     0.8\u001b[39;00m\n\u001b[0;32m   5580\u001b[0m \u001b[38;5;124;03m    \"\"\"\u001b[39;00m\n\u001b[1;32m-> 5581\u001b[0m     \u001b[38;5;28;01mreturn\u001b[39;00m \u001b[38;5;28msuper\u001b[39m()\u001b[38;5;241m.\u001b[39mdrop(\n\u001b[0;32m   5582\u001b[0m         labels\u001b[38;5;241m=\u001b[39mlabels,\n\u001b[0;32m   5583\u001b[0m         axis\u001b[38;5;241m=\u001b[39maxis,\n\u001b[0;32m   5584\u001b[0m         index\u001b[38;5;241m=\u001b[39mindex,\n\u001b[0;32m   5585\u001b[0m         columns\u001b[38;5;241m=\u001b[39mcolumns,\n\u001b[0;32m   5586\u001b[0m         level\u001b[38;5;241m=\u001b[39mlevel,\n\u001b[0;32m   5587\u001b[0m         inplace\u001b[38;5;241m=\u001b[39minplace,\n\u001b[0;32m   5588\u001b[0m         errors\u001b[38;5;241m=\u001b[39merrors,\n\u001b[0;32m   5589\u001b[0m     )\n",
      "File \u001b[1;32m~\\anaconda3\\Lib\\site-packages\\pandas\\core\\generic.py:4788\u001b[0m, in \u001b[0;36mNDFrame.drop\u001b[1;34m(self, labels, axis, index, columns, level, inplace, errors)\u001b[0m\n\u001b[0;32m   4786\u001b[0m \u001b[38;5;28;01mfor\u001b[39;00m axis, labels \u001b[38;5;129;01min\u001b[39;00m axes\u001b[38;5;241m.\u001b[39mitems():\n\u001b[0;32m   4787\u001b[0m     \u001b[38;5;28;01mif\u001b[39;00m labels \u001b[38;5;129;01mis\u001b[39;00m \u001b[38;5;129;01mnot\u001b[39;00m \u001b[38;5;28;01mNone\u001b[39;00m:\n\u001b[1;32m-> 4788\u001b[0m         obj \u001b[38;5;241m=\u001b[39m obj\u001b[38;5;241m.\u001b[39m_drop_axis(labels, axis, level\u001b[38;5;241m=\u001b[39mlevel, errors\u001b[38;5;241m=\u001b[39merrors)\n\u001b[0;32m   4790\u001b[0m \u001b[38;5;28;01mif\u001b[39;00m inplace:\n\u001b[0;32m   4791\u001b[0m     \u001b[38;5;28mself\u001b[39m\u001b[38;5;241m.\u001b[39m_update_inplace(obj)\n",
      "File \u001b[1;32m~\\anaconda3\\Lib\\site-packages\\pandas\\core\\generic.py:4830\u001b[0m, in \u001b[0;36mNDFrame._drop_axis\u001b[1;34m(self, labels, axis, level, errors, only_slice)\u001b[0m\n\u001b[0;32m   4828\u001b[0m         new_axis \u001b[38;5;241m=\u001b[39m axis\u001b[38;5;241m.\u001b[39mdrop(labels, level\u001b[38;5;241m=\u001b[39mlevel, errors\u001b[38;5;241m=\u001b[39merrors)\n\u001b[0;32m   4829\u001b[0m     \u001b[38;5;28;01melse\u001b[39;00m:\n\u001b[1;32m-> 4830\u001b[0m         new_axis \u001b[38;5;241m=\u001b[39m axis\u001b[38;5;241m.\u001b[39mdrop(labels, errors\u001b[38;5;241m=\u001b[39merrors)\n\u001b[0;32m   4831\u001b[0m     indexer \u001b[38;5;241m=\u001b[39m axis\u001b[38;5;241m.\u001b[39mget_indexer(new_axis)\n\u001b[0;32m   4833\u001b[0m \u001b[38;5;66;03m# Case for non-unique axis\u001b[39;00m\n\u001b[0;32m   4834\u001b[0m \u001b[38;5;28;01melse\u001b[39;00m:\n",
      "File \u001b[1;32m~\\anaconda3\\Lib\\site-packages\\pandas\\core\\indexes\\base.py:7070\u001b[0m, in \u001b[0;36mIndex.drop\u001b[1;34m(self, labels, errors)\u001b[0m\n\u001b[0;32m   7068\u001b[0m \u001b[38;5;28;01mif\u001b[39;00m mask\u001b[38;5;241m.\u001b[39many():\n\u001b[0;32m   7069\u001b[0m     \u001b[38;5;28;01mif\u001b[39;00m errors \u001b[38;5;241m!=\u001b[39m \u001b[38;5;124m\"\u001b[39m\u001b[38;5;124mignore\u001b[39m\u001b[38;5;124m\"\u001b[39m:\n\u001b[1;32m-> 7070\u001b[0m         \u001b[38;5;28;01mraise\u001b[39;00m \u001b[38;5;167;01mKeyError\u001b[39;00m(\u001b[38;5;124mf\u001b[39m\u001b[38;5;124m\"\u001b[39m\u001b[38;5;132;01m{\u001b[39;00mlabels[mask]\u001b[38;5;241m.\u001b[39mtolist()\u001b[38;5;132;01m}\u001b[39;00m\u001b[38;5;124m not found in axis\u001b[39m\u001b[38;5;124m\"\u001b[39m)\n\u001b[0;32m   7071\u001b[0m     indexer \u001b[38;5;241m=\u001b[39m indexer[\u001b[38;5;241m~\u001b[39mmask]\n\u001b[0;32m   7072\u001b[0m \u001b[38;5;28;01mreturn\u001b[39;00m \u001b[38;5;28mself\u001b[39m\u001b[38;5;241m.\u001b[39mdelete(indexer)\n",
      "\u001b[1;31mKeyError\u001b[0m: \"['budget', 'id', 'original_language', 'original_title', 'overview', 'popularity', 'production_companies', 'production_countries', 'release_date', 'revenue', 'runtime', 'spoken_languages', 'status', 'title', 'vote_average', 'vote_count', 'crew'] not found in axis\""
     ]
    }
   ],
   "source": [
    "columns_to_drop =['budget', 'id', 'original_language',\n",
    "       'original_title', 'overview', 'popularity', 'production_companies',\n",
    "       'production_countries', 'release_date', 'revenue', 'runtime',\n",
    "       'spoken_languages', 'status', 'title', 'vote_average',\n",
    "       'vote_count','crew']\n",
    "df = df.drop(columns=columns_to_drop, axis=1)"
   ]
  },
  {
   "cell_type": "code",
   "execution_count": 181,
   "id": "08228152-649e-4aef-9c41-da262d4afc84",
   "metadata": {},
   "outputs": [
    {
     "ename": "NameError",
     "evalue": "name 'df1' is not defined",
     "output_type": "error",
     "traceback": [
      "\u001b[1;31m---------------------------------------------------------------------------\u001b[0m",
      "\u001b[1;31mNameError\u001b[0m                                 Traceback (most recent call last)",
      "Cell \u001b[1;32mIn[181], line 1\u001b[0m\n\u001b[1;32m----> 1\u001b[0m df1\u001b[38;5;241m.\u001b[39mhead(\u001b[38;5;241m2\u001b[39m)\n",
      "\u001b[1;31mNameError\u001b[0m: name 'df1' is not defined"
     ]
    }
   ],
   "source": [
    "df1.head(2)"
   ]
  },
  {
   "cell_type": "code",
   "execution_count": 137,
   "id": "d751f674-abf4-445d-8a00-cee4b26c1d06",
   "metadata": {},
   "outputs": [
    {
     "data": {
      "text/plain": [
       "(3746, 5)"
      ]
     },
     "execution_count": 137,
     "metadata": {},
     "output_type": "execute_result"
    }
   ],
   "source": [
    "df.shape"
   ]
  },
  {
   "cell_type": "code",
   "execution_count": null,
   "id": "da9d6b0c-80a2-4875-a02a-c1c9610c82a9",
   "metadata": {},
   "outputs": [],
   "source": [
    "# combineing these cols df['merged_col_concat'] = df['col1'] + '-' + df['col2'].astype(str) + '-' + df['col3']\n"
   ]
  },
  {
   "cell_type": "code",
   "execution_count": 139,
   "id": "8db5cb93-b107-42c7-8b0b-08e2ca1414ec",
   "metadata": {},
   "outputs": [],
   "source": [
    "df['merged_col'] = df['genres'] + '-' + df['keywords'] + '-' + df['tagline'] + '-' + df['cast'] + '-' + df['director']\n"
   ]
  },
  {
   "cell_type": "code",
   "execution_count": 149,
   "id": "f0994213-d489-413b-a920-420e1bfd17a4",
   "metadata": {},
   "outputs": [],
   "source": [
    "merged_col = df['genres'] + '-' + df['keywords'] + '-' + df['tagline'] + '-' + df['cast'] + '-' + df['director']\n"
   ]
  },
  {
   "cell_type": "code",
   "execution_count": 155,
   "id": "9bd5aaf5-2072-4282-b327-14c04f16eefe",
   "metadata": {},
   "outputs": [
    {
     "data": {
      "text/plain": [
       "0       Action Adventure Fantasy Science Fiction-cultu...\n",
       "1       Adventure Fantasy Action-ocean drug abuse exot...\n",
       "2       Action Adventure Crime-spy based on novel secr...\n",
       "3       Action Crime Drama Thriller-dc comics crime fi...\n",
       "4       Action Adventure Science Fiction-based on nove...\n",
       "                              ...                        \n",
       "4783    Thriller Horror-possession-nederlands-Stephen ...\n",
       "4787    Science Fiction Thriller-superhero-May The Bes...\n",
       "4788    Horror Comedy Crime-gay trailer park pop cultu...\n",
       "4789    Drama-addiction recovering drug addict estrang...\n",
       "4791    Horror-home invasion-Everything You've Heard i...\n",
       "Name: merged_col, Length: 3746, dtype: object"
      ]
     },
     "execution_count": 155,
     "metadata": {},
     "output_type": "execute_result"
    }
   ],
   "source": [
    "df['merged_col']"
   ]
  },
  {
   "cell_type": "code",
   "execution_count": 163,
   "id": "3fcd6df8-5d3d-4d2b-b5eb-e1de7102e394",
   "metadata": {},
   "outputs": [
    {
     "name": "stdout",
     "output_type": "stream",
     "text": [
      "  (0, 184)\t0.0773827640138315\n",
      "  (0, 244)\t0.0876719985667802\n",
      "  (0, 4519)\t0.10875965257589007\n",
      "  (0, 11567)\t0.10182199345041251\n",
      "  (0, 4660)\t0.10182199345041251\n",
      "  (0, 3143)\t0.218283605891842\n",
      "  (0, 2597)\t0.2233898783841295\n",
      "  (0, 5004)\t0.16224649539169814\n",
      "  (0, 12247)\t0.33692147494961255\n",
      "  (0, 14131)\t0.12629349162604603\n",
      "  (0, 2738)\t0.25238995763397404\n",
      "  (0, 12155)\t0.21386035146455357\n",
      "  (0, 4226)\t0.2368209922166161\n",
      "  (0, 13010)\t0.06623705302376202\n",
      "  (0, 14508)\t0.1260003463275185\n",
      "  (0, 9506)\t0.0873069788671734\n",
      "  (0, 9777)\t0.2693111598882546\n",
      "  (0, 11355)\t0.14969877264542517\n",
      "  (0, 14517)\t0.23291940530370545\n",
      "  (0, 14737)\t0.20816777689582325\n",
      "  (0, 11328)\t0.22073844747990254\n",
      "  (0, 11969)\t0.20183903348008134\n",
      "  (0, 14205)\t0.19532296513977945\n",
      "  (0, 12448)\t0.1528261125660821\n",
      "  (0, 7448)\t0.2368209922166161\n",
      "  :\t:\n",
      "  (3744, 4308)\t0.24235288546503028\n",
      "  (3744, 10747)\t0.25443953346603787\n",
      "  (3744, 13540)\t0.25443953346603787\n",
      "  (3744, 3217)\t0.25443953346603787\n",
      "  (3744, 1016)\t0.25443953346603787\n",
      "  (3745, 8692)\t0.11544526875492536\n",
      "  (3745, 4180)\t0.18975610321375674\n",
      "  (3745, 6546)\t0.10614134064480993\n",
      "  (3745, 14630)\t0.11163334700754424\n",
      "  (3745, 9880)\t0.16591180200076755\n",
      "  (3745, 6122)\t0.19704890829668983\n",
      "  (3745, 6169)\t0.11336800894364918\n",
      "  (3745, 6500)\t0.2247467185458342\n",
      "  (3745, 13385)\t0.17351064807398567\n",
      "  (3745, 4351)\t0.18258363649518025\n",
      "  (3745, 3783)\t0.24217543672173458\n",
      "  (3745, 13892)\t0.20132939737926328\n",
      "  (3745, 6579)\t0.24824654179739353\n",
      "  (3745, 5845)\t0.2247467185458342\n",
      "  (3745, 10782)\t0.26467265424122677\n",
      "  (3745, 4131)\t0.2598198359629001\n",
      "  (3745, 9828)\t0.31020075750170784\n",
      "  (3745, 7313)\t0.31020075750170784\n",
      "  (3745, 12858)\t0.31020075750170784\n",
      "  (3745, 7026)\t0.31020075750170784\n"
     ]
    }
   ],
   "source": [
    "vectorizer = TfidfVectorizer()\n",
    "feature_vector = vectorizer.fit_transform(merged_col)\n",
    "print(feature_vector)"
   ]
  },
  {
   "cell_type": "code",
   "execution_count": null,
   "id": "e28a2cc8-6207-47bc-be58-3117754b2a9c",
   "metadata": {},
   "outputs": [],
   "source": [
    "# finding similarity"
   ]
  },
  {
   "cell_type": "code",
   "execution_count": 167,
   "id": "2034fb6b-e513-4bc9-a066-5b13a669eeb3",
   "metadata": {},
   "outputs": [
    {
     "name": "stdout",
     "output_type": "stream",
     "text": [
      "[[1.         0.0679902  0.03718691 ... 0.04297779 0.         0.        ]\n",
      " [0.0679902  1.         0.0313329  ... 0.0201962  0.02014938 0.        ]\n",
      " [0.03718691 0.0313329  1.         ... 0.00803719 0.         0.        ]\n",
      " ...\n",
      " [0.04297779 0.0201962  0.00803719 ... 1.         0.02070931 0.01056649]\n",
      " [0.         0.02014938 0.         ... 0.02070931 1.         0.02044371]\n",
      " [0.         0.         0.         ... 0.01056649 0.02044371 1.        ]]\n"
     ]
    }
   ],
   "source": [
    "similarity= cosine_similarity(feature_vector)\n",
    "print(similarity)"
   ]
  },
  {
   "cell_type": "code",
   "execution_count": 169,
   "id": "85e050e8-0a6b-42f7-9def-fbcf0fccac82",
   "metadata": {},
   "outputs": [
    {
     "data": {
      "text/plain": [
       "(3746, 3746)"
      ]
     },
     "execution_count": 169,
     "metadata": {},
     "output_type": "execute_result"
    }
   ],
   "source": [
    "similarity.shape"
   ]
  },
  {
   "cell_type": "code",
   "execution_count": 171,
   "id": "b87d7191-99ad-427e-bbe9-cf8570b94a2c",
   "metadata": {},
   "outputs": [
    {
     "name": "stdin",
     "output_type": "stream",
     "text": [
      "Enter movie name iron man\n"
     ]
    }
   ],
   "source": [
    "Movie_name=input('Enter movie name')"
   ]
  },
  {
   "cell_type": "code",
   "execution_count": 257,
   "id": "918c8dca-a43f-45a3-bbc8-ea336bd07a29",
   "metadata": {},
   "outputs": [],
   "source": [
    "list_of_all_titles=df2['title'].tolist()\n"
   ]
  },
  {
   "cell_type": "code",
   "execution_count": 185,
   "id": "b3cad414-f132-4adf-8cd4-6c3a3e5584ec",
   "metadata": {},
   "outputs": [],
   "source": [
    "df2= pd.read_csv(r\"C:\\Users\\DELL\\Desktop\\Uday\\Machine Learning\\Recommendation system\\movies (1).csv\")"
   ]
  },
  {
   "cell_type": "code",
   "execution_count": 243,
   "id": "7a21f4d4-85d1-4df2-a589-099c68bb3cc8",
   "metadata": {},
   "outputs": [
    {
     "name": "stdout",
     "output_type": "stream",
     "text": [
      "['Iron Man', 'Iron Man 3', 'Iron Man 2']\n"
     ]
    }
   ],
   "source": [
    "find_close_match=difflib.get_close_matches(Movie_name,list_of_all_titles)\n",
    "print(find_close_match)"
   ]
  },
  {
   "cell_type": "code",
   "execution_count": 245,
   "id": "2b42b0a0-14d1-4f0e-87ca-1557035e760f",
   "metadata": {},
   "outputs": [
    {
     "name": "stdout",
     "output_type": "stream",
     "text": [
      "Iron Man\n"
     ]
    }
   ],
   "source": [
    "close_match=find_close_match[0]\n",
    "print(close_match)"
   ]
  },
  {
   "cell_type": "code",
   "execution_count": 249,
   "id": "f7220768-d1aa-4608-b455-e9f477e3f7fd",
   "metadata": {},
   "outputs": [],
   "source": [
    "# fiding the index of movie with the title"
   ]
  },
  {
   "cell_type": "code",
   "execution_count": 251,
   "id": "d1fd1d74-67d3-432f-b2d6-2e4fab4ec75c",
   "metadata": {},
   "outputs": [
    {
     "name": "stdout",
     "output_type": "stream",
     "text": [
      "68\n"
     ]
    }
   ],
   "source": [
    "index_of_the_movie = df2[df2.title ==close_match]['index'].values[0]\n",
    "print(index_of_the_movie)"
   ]
  },
  {
   "cell_type": "code",
   "execution_count": 253,
   "id": "63dad1c8-280d-4e9f-b7a5-0c9ca0b80dc4",
   "metadata": {},
   "outputs": [],
   "source": [
    "# getting a list of similar movies \n",
    "similarity_score = list(enumerate(similarity[index_of_the_movie]))\n"
   ]
  },
  {
   "cell_type": "code",
   "execution_count": 233,
   "id": "631d5856-f227-4a21-96bc-bf3dd15feb77",
   "metadata": {},
   "outputs": [],
   "source": [
    "# sorting the movies based on their similarity score\n",
    "sorted_similar_movies = sorted(similarity_score, key =lambda x:x[1], reverse =True)\n"
   ]
  },
  {
   "cell_type": "code",
   "execution_count": null,
   "id": "15625343-2f92-425f-8bf3-acc5e60fabf9",
   "metadata": {},
   "outputs": [],
   "source": [
    "# print the name of similar movies based on the index"
   ]
  },
  {
   "cell_type": "code",
   "execution_count": 235,
   "id": "cf0c0538-5f54-495d-a001-15f91cb8b249",
   "metadata": {},
   "outputs": [
    {
     "name": "stdout",
     "output_type": "stream",
     "text": [
      "Movies suggested for you: \n",
      "\n",
      "1 . Iron Man\n",
      "2 . Cat People\n",
      "3 . Into the Blue\n",
      "4 . Clear and Present Danger\n",
      "5 . The Iron Giant\n",
      "6 . Yentl\n",
      "7 . Hide and Seek\n",
      "8 . The Postman\n",
      "9 . Knocked Up\n"
     ]
    }
   ],
   "source": [
    "print(\"Movies suggested for you: \\n\")\n",
    "\n",
    "i = 1\n",
    "\n",
    "for movie in sorted_similar_movies:\n",
    "    index = movie[0]\n",
    "    title_from_index = df2[df2['index'] == index]['title'].values[0]\n",
    "    \n",
    "    if i < 10:\n",
    "        print(i, '.', title_from_index)\n",
    "        i += 1\n"
   ]
  },
  {
   "cell_type": "code",
   "execution_count": 265,
   "id": "ecd8ac08-8fb2-4ebc-9989-09a932e902df",
   "metadata": {},
   "outputs": [
    {
     "name": "stdin",
     "output_type": "stream",
     "text": [
      "Enter movie name avatar\n"
     ]
    },
    {
     "name": "stdout",
     "output_type": "stream",
     "text": [
      "Movies suggested for you: \n",
      "\n",
      "1 . Avatar\n",
      "2 . Alien\n",
      "3 . Aliens\n",
      "4 . Guardians of the Galaxy\n",
      "5 . Star Trek Beyond\n",
      "6 . Star Trek Into Darkness\n",
      "7 . Galaxy Quest\n",
      "8 . Alien³\n",
      "9 . Cargo\n"
     ]
    }
   ],
   "source": [
    "Movie_name=input('Enter movie name')\n",
    "\n",
    "list_of_all_titles=df2['title'].tolist()\n",
    "\n",
    "find_close_match=difflib.get_close_matches(Movie_name,list_of_all_titles)\n",
    "\n",
    "close_match=find_close_match[0]\n",
    "\n",
    "index_of_the_movie = df2[df2.title ==close_match]['index'].values[0]\n",
    "\n",
    "similarity_score = list(enumerate(similarity[index_of_the_movie]))\n",
    "\n",
    "sorted_similar_movies = sorted(similarity_score, key =lambda x:x[1], reverse =True)\n",
    "\n",
    "\n",
    "print(\"Movies suggested for you: \\n\")\n",
    "\n",
    "i = 1\n",
    "\n",
    "for movie in sorted_similar_movies:\n",
    "    index = movie[0]\n",
    "    title_from_index = df2[df2['index'] == index]['title'].values[0]\n",
    "    \n",
    "    if i < 10:\n",
    "        print(i, '.', title_from_index)\n",
    "        i += 1\n"
   ]
  },
  {
   "cell_type": "code",
   "execution_count": 267,
   "id": "835213bf-c6dd-4827-974f-848622f9ded8",
   "metadata": {},
   "outputs": [
    {
     "name": "stdin",
     "output_type": "stream",
     "text": [
      "🎥 Enter a movie name you like:  AVatar\n"
     ]
    },
    {
     "name": "stdout",
     "output_type": "stream",
     "text": [
      "✅ Closest match found: *Avatar*\n",
      "\n",
      "🍿 Movies recommended for you:\n",
      "\n",
      "1. 🎬 Alien\n",
      "2. 🎬 Aliens\n",
      "3. 🎬 Guardians of the Galaxy\n",
      "4. 🎬 Star Trek Beyond\n",
      "5. 🎬 Star Trek Into Darkness\n",
      "6. 🎬 Galaxy Quest\n",
      "7. 🎬 Alien³\n",
      "8. 🎬 Cargo\n",
      "9. 🎬 Trekkies\n",
      "10. 🎬 Gravity\n",
      "\n",
      "✅ Enjoy your watchlist!\n"
     ]
    }
   ],
   "source": [
    "import pandas as pd\n",
    "import difflib\n",
    "from sklearn.feature_extraction.text import TfidfVectorizer\n",
    "from sklearn.metrics.pairwise import cosine_similarity\n",
    "\n",
    "# Load your data\n",
    "try:\n",
    "    df2 = pd.read_csv(r\"C:\\Users\\DELL\\Desktop\\Uday\\Machine Learning\\Recommendation system\\movies (1).csv\")\n",
    "except FileNotFoundError:\n",
    "    print(\"🚫 File not found. Please check the file path.\")\n",
    "    exit()\n",
    "\n",
    "# Check for required columns\n",
    "if 'title' not in df2.columns or 'index' not in df2.columns:\n",
    "    print(\"❗ 'title' or 'index' column is missing in the CSV.\")\n",
    "    exit()\n",
    "\n",
    "# Ask user for a movie name\n",
    "Movie_name = input(\"🎥 Enter a movie name you like: \").strip()\n",
    "\n",
    "# Get all movie titles\n",
    "list_of_all_titles = df2['title'].tolist()\n",
    "\n",
    "# Find closest matching title\n",
    "find_close_match = difflib.get_close_matches(Movie_name, list_of_all_titles)\n",
    "\n",
    "if not find_close_match:\n",
    "    print(\"🤷‍♂️ Oops! We couldn't find a close match for that movie. Try again!\")\n",
    "    exit()\n",
    "\n",
    "close_match = find_close_match[0]\n",
    "print(f\"✅ Closest match found: *{close_match}*\")\n",
    "\n",
    "# Get index of the matched movie\n",
    "try:\n",
    "    index_of_the_movie = df2[df2.title == close_match]['index'].values[0]\n",
    "except IndexError:\n",
    "    print(\"❗ Error getting index. Check if 'index' column is properly assigned.\")\n",
    "    exit()\n",
    "\n",
    "# Combine selected features (example — modify as needed)\n",
    "selected_features = ['genres', 'keywords', 'tagline', 'cast', 'director']\n",
    "for feature in selected_features:\n",
    "    df2[feature] = df2[feature].fillna('')  # fill missing data\n",
    "\n",
    "df2['combined_features'] = df2[selected_features].agg(' '.join, axis=1)\n",
    "\n",
    "# TF-IDF vectorization\n",
    "vectorizer = TfidfVectorizer()\n",
    "feature_vectors = vectorizer.fit_transform(df2['combined_features'])\n",
    "\n",
    "# Compute similarity matrix\n",
    "similarity = cosine_similarity(feature_vectors)\n",
    "\n",
    "# Get similarity scores for the input movie\n",
    "similarity_score = list(enumerate(similarity[index_of_the_movie]))\n",
    "\n",
    "# Sort movies by similarity score\n",
    "sorted_similar_movies = sorted(similarity_score, key=lambda x: x[1], reverse=True)\n",
    "\n",
    "# Recommend top 10 movies\n",
    "print(\"\\n🍿 Movies recommended for you:\\n\")\n",
    "\n",
    "i = 1\n",
    "for movie in sorted_similar_movies[1:11]:  # skip the first one (it's the same movie)\n",
    "    index = movie[0]\n",
    "    title_from_index = df2[df2['index'] == index]['title'].values[0]\n",
    "    print(f\"{i}. 🎬 {title_from_index}\")\n",
    "    i += 1\n",
    "\n",
    "print(\"\\n✅ Enjoy your watchlist!\")\n"
   ]
  },
  {
   "cell_type": "code",
   "execution_count": null,
   "id": "3bdb1035-859e-486c-b51a-db6a8853fd88",
   "metadata": {},
   "outputs": [],
   "source": []
  },
  {
   "cell_type": "code",
   "execution_count": null,
   "id": "cae2cba7-96d6-4f89-90ff-3f5a9d04948a",
   "metadata": {},
   "outputs": [],
   "source": []
  },
  {
   "cell_type": "code",
   "execution_count": null,
   "id": "d1f0042e-8cd9-423b-b8ff-bdf07a2d22a7",
   "metadata": {},
   "outputs": [],
   "source": []
  },
  {
   "cell_type": "code",
   "execution_count": null,
   "id": "7073cde2-4295-4c11-8e5c-638f7e1fe0d8",
   "metadata": {},
   "outputs": [],
   "source": []
  }
 ],
 "metadata": {
  "kernelspec": {
   "display_name": "Python [conda env:base] *",
   "language": "python",
   "name": "conda-base-py"
  },
  "language_info": {
   "codemirror_mode": {
    "name": "ipython",
    "version": 3
   },
   "file_extension": ".py",
   "mimetype": "text/x-python",
   "name": "python",
   "nbconvert_exporter": "python",
   "pygments_lexer": "ipython3",
   "version": "3.12.7"
  }
 },
 "nbformat": 4,
 "nbformat_minor": 5
}
